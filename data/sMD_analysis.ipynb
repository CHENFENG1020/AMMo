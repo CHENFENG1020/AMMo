{
 "cells": [
  {
   "cell_type": "markdown",
   "id": "ca699ee1",
   "metadata": {},
   "source": [
    "# Steered MD analysis"
   ]
  },
  {
   "cell_type": "code",
   "execution_count": null,
   "id": "2864a71e",
   "metadata": {},
   "outputs": [],
   "source": [
    "import os\n",
    "import numpy as np\n",
    "import pandas as pd\n",
    "import matplotlib.pyplot as plt\n",
    "import ipywidgets as widgets\n",
    "import nglview as ng\n",
    "from IPython.display import display\n",
    "import pytraj as pt"
   ]
  },
  {
   "cell_type": "code",
   "execution_count": null,
   "id": "10eab549",
   "metadata": {},
   "outputs": [],
   "source": [
    "import yaml\n",
    "with open('../.defaults/config', 'r') as file:\n",
    "    _settings = yaml.load(file, Loader=yaml.FullLoader)"
   ]
  },
  {
   "cell_type": "markdown",
   "id": "9b42fc1b",
   "metadata": {},
   "source": [
    "## Load data"
   ]
  },
  {
   "cell_type": "markdown",
   "id": "0aa7a0d8",
   "metadata": {},
   "source": [
    "Select data:"
   ]
  },
  {
   "cell_type": "code",
   "execution_count": null,
   "id": "bd4a7793",
   "metadata": {},
   "outputs": [],
   "source": [
    "system = widgets.Dropdown(options=os.listdir('../systems'), description='System:')\n",
    "display(system)\n",
    "state = widgets.RadioButtons(options=os.listdir(f'../systems/{system.value}'), description='State:')\n",
    "display(state)\n",
    "folder = widgets.Text(description='Folder:')\n",
    "display(folder)"
   ]
  },
  {
   "cell_type": "markdown",
   "id": "9f2ea212",
   "metadata": {},
   "source": [
    "Go to folder:"
   ]
  },
  {
   "cell_type": "code",
   "execution_count": null,
   "id": "47cf7559",
   "metadata": {},
   "outputs": [],
   "source": [
    "if folder.value == '':\n",
    "    folder_name = 'seeded-md'\n",
    "elif 'seeded-md' in folder.value:\n",
    "    folder_name = folder.value\n",
    "else:\n",
    "    folder_name = f'seeded-md_{folder.value}'\n",
    "os.chdir(f'../systems/{system.value}/{state.value}/{folder_name}/steering')"
   ]
  },
  {
   "cell_type": "markdown",
   "id": "3147217f",
   "metadata": {},
   "source": [
    "Load PLUMED output:"
   ]
  },
  {
   "cell_type": "code",
   "execution_count": null,
   "id": "7c29734d",
   "metadata": {},
   "outputs": [],
   "source": [
    "data = pd.read_csv('steering.dat', delim_whitespace=True)\n",
    "columns = data.columns[2:]\n",
    "data = data.iloc[:,:-2]\n",
    "data.columns = columns\n",
    "data.index = data['time']/1000"
   ]
  },
  {
   "cell_type": "markdown",
   "id": "fe4cfb59",
   "metadata": {},
   "source": [
    "## Plot data"
   ]
  },
  {
   "cell_type": "markdown",
   "id": "1332c19e",
   "metadata": {},
   "source": [
    "This section is for plotting the CV outputs to check whether the sMD simulation was successful. It is recommended to set up any additional analysis here and run this notebook to check each sMD trajectory."
   ]
  },
  {
   "cell_type": "code",
   "execution_count": null,
   "id": "429c9571",
   "metadata": {},
   "outputs": [],
   "source": [
    "fig, ax = plt.subplots(1, figsize=(10,5))\n",
    "ax.plot(data.index, data.iloc[:,1], alpha=0.7, label='CV')\n",
    "\n",
    "ax.legend()\n",
    "ax.set_xlim(data.index[0], data.index[-1])\n",
    "ax.set_xlabel('time/ns', size=14)\n",
    "ax.set_ylabel('CV value/units', size=14)"
   ]
  },
  {
   "cell_type": "markdown",
   "id": "4ec7ef63",
   "metadata": {},
   "source": [
    "## Sample trajectory"
   ]
  },
  {
   "cell_type": "markdown",
   "id": "f5f24aa8",
   "metadata": {},
   "source": [
    "Select snapshot number and set steering duration:"
   ]
  },
  {
   "cell_type": "code",
   "execution_count": null,
   "id": "0fe6b78b",
   "metadata": {},
   "outputs": [],
   "source": [
    "snapshot_number = widgets.IntText(value=100)\n",
    "traj_duration = widgets.IntText(value=data.index.max()//10*10)\n",
    "display(widgets.HBox([widgets.Label('Snapshot number:'), snapshot_number]))\n",
    "display(widgets.HBox([widgets.Label('Trajectory duration/ns:'), traj_duration]))"
   ]
  },
  {
   "cell_type": "code",
   "execution_count": null,
   "id": "9fd193b8",
   "metadata": {},
   "outputs": [],
   "source": [
    "last_frame = int(traj_duration.value/(data.index[2]-data.index[1]))\n",
    "snapshot_idxs = np.linspace(0, last_frame, snapshot_number.value, dtype=int)"
   ]
  },
  {
   "cell_type": "markdown",
   "id": "f7d38898",
   "metadata": {},
   "source": [
    "Check that the snapshots sample the conformational space well:"
   ]
  },
  {
   "cell_type": "code",
   "execution_count": null,
   "id": "cf71d41b",
   "metadata": {},
   "outputs": [],
   "source": [
    "fig, ax = plt.subplots(1, figsize=(10,5))\n",
    "ax.plot(data.iloc[snapshot_idxs].index, data.iloc[:,1].iloc[snapshot_idxs]*10, alpha=0.7, label='Hinge')"
   ]
  },
  {
   "cell_type": "markdown",
   "id": "1a45146f",
   "metadata": {},
   "source": [
    "Visualize trajectory:"
   ]
  },
  {
   "cell_type": "code",
   "execution_count": null,
   "id": "c9a7c78d",
   "metadata": {},
   "outputs": [],
   "source": [
    "reference = pt.load('../../../../../inputs/reference.pdb')"
   ]
  },
  {
   "cell_type": "code",
   "execution_count": null,
   "id": "0cb4238a",
   "metadata": {},
   "outputs": [],
   "source": [
    "trajectory = pt.load('steering_dry.nc', top='../../system-setup/system_dry.prm7')\n",
    "trajectory = pt.align(trajectory, ':450-800&(@CA,C,N,O)', ref=reference, ref_mask=':450-800&(@CA,C,N,O)')"
   ]
  },
  {
   "cell_type": "code",
   "execution_count": null,
   "id": "af4f0fa3",
   "metadata": {},
   "outputs": [],
   "source": [
    "view = ng.show_pytraj(trajectory)\n",
    "view.clear_representations()\n",
    "view.add_representation('cartoon', color='magenta')\n",
    "view.add_component(reference)\n",
    "view.component_1.clear_representations()\n",
    "view.component_1.add_representation('cartoon', color='lightgreen')\n",
    "view.display()"
   ]
  },
  {
   "cell_type": "markdown",
   "id": "66f6c569",
   "metadata": {},
   "source": [
    "Save snapshots:"
   ]
  },
  {
   "cell_type": "code",
   "execution_count": null,
   "id": "8a6ad52e",
   "metadata": {},
   "outputs": [],
   "source": [
    "if not os.path.exists('../snapshots'):\n",
    "    os.mkdir('../snapshots')"
   ]
  },
  {
   "cell_type": "code",
   "execution_count": null,
   "id": "5463dc88",
   "metadata": {},
   "outputs": [],
   "source": [
    "frame_idxs = []\n",
    "for i, idx in enumerate(snapshot_idxs):\n",
    "    snapshot = pt.load('steering.nc', top='../../system-setup/system.prm7', frame_indices=[idx])\n",
    "    if not os.path.exists(f'../snapshots/snapshot_{i+1}.rst7'):\n",
    "        pt.io.save_traj(f'../snapshots/snapshot_{i+1}.rst7', snapshot, format='rst7')\n",
    "        os.rename(f'../snapshots/snapshot_{i+1}.rst7.1', f'../snapshots/snapshot_{i+1}.rst7')\n",
    "    frame_idxs.append(f'{i+1} {idx}\\n')"
   ]
  },
  {
   "cell_type": "code",
   "execution_count": null,
   "id": "d85052e1",
   "metadata": {},
   "outputs": [],
   "source": [
    "with open('../snapshots/snapshot_idxs.txt', 'w') as file:\n",
    "    file.writelines(frame_idxs)"
   ]
  },
  {
   "cell_type": "code",
   "execution_count": null,
   "id": "a79aa4e8",
   "metadata": {},
   "outputs": [],
   "source": []
  }
 ],
 "metadata": {
  "kernelspec": {
   "display_name": "Python 3 (ipykernel)",
   "language": "python",
   "name": "python3"
  },
  "language_info": {
   "codemirror_mode": {
    "name": "ipython",
    "version": 3
   },
   "file_extension": ".py",
   "mimetype": "text/x-python",
   "name": "python",
   "nbconvert_exporter": "python",
   "pygments_lexer": "ipython3",
   "version": "3.9.13"
  }
 },
 "nbformat": 4,
 "nbformat_minor": 5
}
