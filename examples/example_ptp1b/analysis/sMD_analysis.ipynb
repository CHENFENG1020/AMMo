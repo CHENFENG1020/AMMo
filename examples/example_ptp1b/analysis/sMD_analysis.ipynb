{
 "cells": [
  {
   "cell_type": "markdown",
   "id": "ca699ee1",
   "metadata": {},
   "source": [
    "# Steered MD analysis"
   ]
  },
  {
   "cell_type": "code",
   "execution_count": 1,
   "id": "2864a71e",
   "metadata": {},
   "outputs": [
    {
     "data": {
      "application/vnd.jupyter.widget-view+json": {
       "model_id": "",
       "version_major": 2,
       "version_minor": 0
      },
      "text/plain": []
     },
     "metadata": {},
     "output_type": "display_data"
    }
   ],
   "source": [
    "import os\n",
    "import numpy as np\n",
    "import pandas as pd\n",
    "import matplotlib.pyplot as plt\n",
    "import ipywidgets as widgets\n",
    "import nglview as ng\n",
    "from IPython.display import display\n",
    "import pytraj as pt"
   ]
  },
  {
   "cell_type": "code",
   "execution_count": 2,
   "id": "10eab549",
   "metadata": {},
   "outputs": [],
   "source": [
    "import yaml\n",
    "with open('../.defaults/config', 'r') as file:\n",
    "    _settings = yaml.load(file, Loader=yaml.FullLoader)"
   ]
  },
  {
   "cell_type": "markdown",
   "id": "9b42fc1b",
   "metadata": {},
   "source": [
    "## Load data"
   ]
  },
  {
   "cell_type": "markdown",
   "id": "0aa7a0d8",
   "metadata": {},
   "source": [
    "Select data:"
   ]
  },
  {
   "cell_type": "code",
   "execution_count": 4,
   "id": "bd4a7793",
   "metadata": {},
   "outputs": [
    {
     "data": {
      "application/vnd.jupyter.widget-view+json": {
       "model_id": "dd6aed3d9180486db70157318797005a",
       "version_major": 2,
       "version_minor": 0
      },
      "text/plain": [
       "Dropdown(description='System:', options=('peptide-2', 'apo', 'peptide-2r', 'peptide-3u', 'reference', 'peptide…"
      ]
     },
     "metadata": {},
     "output_type": "display_data"
    },
    {
     "data": {
      "application/vnd.jupyter.widget-view+json": {
       "model_id": "f3cefe490bcb4141931b7fd9ab582d50",
       "version_major": 2,
       "version_minor": 0
      },
      "text/plain": [
       "RadioButtons(description='State:', options=('closed', 'open'), value='closed')"
      ]
     },
     "metadata": {},
     "output_type": "display_data"
    },
    {
     "data": {
      "application/vnd.jupyter.widget-view+json": {
       "model_id": "5384ffa5422d4edda3081d0c756c9299",
       "version_major": 2,
       "version_minor": 0
      },
      "text/plain": [
       "Text(value='', description='Folder:')"
      ]
     },
     "metadata": {},
     "output_type": "display_data"
    }
   ],
   "source": [
    "system = widgets.Dropdown(options=os.listdir('../systems'), description='System:')\n",
    "display(system)\n",
    "state = widgets.RadioButtons(options=os.listdir(f'../systems/{system.value}'), description='State:')\n",
    "display(state)\n",
    "folder = widgets.Text(description='Folder:')\n",
    "display(folder)"
   ]
  },
  {
   "cell_type": "markdown",
   "id": "9f2ea212",
   "metadata": {},
   "source": [
    "Go to folder:"
   ]
  },
  {
   "cell_type": "code",
   "execution_count": 5,
   "id": "47cf7559",
   "metadata": {},
   "outputs": [],
   "source": [
    "if folder.value == '':\n",
    "    folder_name = 'seeded-md'\n",
    "elif 'seeded-md' in folder.value:\n",
    "    folder_name = folder.value\n",
    "else:\n",
    "    folder_name = f'seeded-md_{folder.value}'\n",
    "os.chdir(f'../systems/{system.value}/{state.value}/{folder_name}/steering')"
   ]
  },
  {
   "cell_type": "markdown",
   "id": "3147217f",
   "metadata": {},
   "source": [
    "Load PLUMED output:"
   ]
  },
  {
   "cell_type": "code",
   "execution_count": 6,
   "id": "7c29734d",
   "metadata": {},
   "outputs": [],
   "source": [
    "data = pd.read_csv('steering.dat', delim_whitespace=True)\n",
    "columns = data.columns[2:]\n",
    "data = pd.read_csv('steering.dat', delim_whitespace=True, skiprows=5, header=None)\n",
    "data.columns = columns\n",
    "data.index = data['time']/1000"
   ]
  },
  {
   "cell_type": "markdown",
   "id": "fe4cfb59",
   "metadata": {},
   "source": [
    "## Plot data"
   ]
  },
  {
   "cell_type": "code",
   "execution_count": 7,
   "id": "429c9571",
   "metadata": {},
   "outputs": [
    {
     "data": {
      "text/plain": [
       "Text(0, 0.5, 'RMSD/$\\\\AA$')"
      ]
     },
     "execution_count": 7,
     "metadata": {},
     "output_type": "execute_result"
    },
    {
     "data": {
      "image/png": "[encoded data removed]",
      "text/plain": [
       "<Figure size 720x360 with 1 Axes>"
      ]
     },
     "metadata": {
      "needs_background": "light"
     },
     "output_type": "display_data"
    }
   ],
   "source": [
    "fig, ax = plt.subplots(1, figsize=(10,5))\n",
    "ax.plot(data.index, data['rmsd'], alpha=0.7, label='RMSD')\n",
    "\n",
    "ax.legend()\n",
    "ax.set_xlim(data.index[0], data.index[-1])\n",
    "ax.set_xlabel('time/ns', size=14)\n",
    "ax.set_ylabel('RMSD/$\\AA$', size=14)"
   ]
  },
  {
   "cell_type": "markdown",
   "id": "4ec7ef63",
   "metadata": {},
   "source": [
    "## Sample trajectory"
   ]
  },
  {
   "cell_type": "markdown",
   "id": "f5f24aa8",
   "metadata": {},
   "source": [
    "Select snapshot number and set steering duration:"
   ]
  },
  {
   "cell_type": "code",
   "execution_count": 7,
   "id": "0fe6b78b",
   "metadata": {},
   "outputs": [
    {
     "data": {
      "application/vnd.jupyter.widget-view+json": {
       "model_id": "df8d3e1d041a4680af9ecacf46f6b9de",
       "version_major": 2,
       "version_minor": 0
      },
      "text/plain": [
       "HBox(children=(Label(value='Snapshot number:'), IntText(value=100)))"
      ]
     },
     "metadata": {},
     "output_type": "display_data"
    },
    {
     "data": {
      "application/vnd.jupyter.widget-view+json": {
       "model_id": "6b90e953d9b04a24931b1c4a67ab72f0",
       "version_major": 2,
       "version_minor": 0
      },
      "text/plain": [
       "HBox(children=(Label(value='Trajectory duration/ns:'), IntText(value=100)))"
      ]
     },
     "metadata": {},
     "output_type": "display_data"
    }
   ],
   "source": [
    "snapshot_number = widgets.IntText(value=100)\n",
    "traj_duration = widgets.IntText(value=data.index.max()//10*10)\n",
    "display(widgets.HBox([widgets.Label('Snapshot number:'), snapshot_number]))\n",
    "display(widgets.HBox([widgets.Label('Trajectory duration/ns:'), traj_duration]))"
   ]
  },
  {
   "cell_type": "code",
   "execution_count": 8,
   "id": "9fd193b8",
   "metadata": {},
   "outputs": [],
   "source": [
    "last_frame = int(traj_duration.value/(data.index[2]-data.index[1]))\n",
    "snapshot_idxs = np.linspace(0, last_frame, snapshot_number.value, dtype=int)"
   ]
  },
  {
   "cell_type": "markdown",
   "id": "f7d38898",
   "metadata": {},
   "source": [
    "Check that the snapshots sample the conformational space well:"
   ]
  },
  {
   "cell_type": "code",
   "execution_count": 9,
   "id": "cf71d41b",
   "metadata": {},
   "outputs": [
    {
     "data": {
      "text/plain": [
       "[<matplotlib.lines.Line2D at 0x7f7998476160>]"
      ]
     },
     "execution_count": 9,
     "metadata": {},
     "output_type": "execute_result"
    },
    {
     "data": {
      "image/png": "[encoded data removed]",
      "text/plain": [
       "<Figure size 720x360 with 1 Axes>"
      ]
     },
     "metadata": {
      "needs_background": "light"
     },
     "output_type": "display_data"
    }
   ],
   "source": [
    "fig, ax = plt.subplots(1, figsize=(10,5))\n",
    "ax.plot(data.iloc[snapshot_idxs].index, data.iloc[:,1].iloc[snapshot_idxs]*10, alpha=0.7, label='Hinge')"
   ]
  },
  {
   "cell_type": "markdown",
   "id": "1a45146f",
   "metadata": {},
   "source": [
    "Visualize trajectory:"
   ]
  },
  {
   "cell_type": "code",
   "execution_count": null,
   "id": "c9a7c78d",
   "metadata": {},
   "outputs": [],
   "source": [
    "reference = pt.load('reference.pdb')"
   ]
  },
  {
   "cell_type": "code",
   "execution_count": null,
   "id": "0cb4238a",
   "metadata": {},
   "outputs": [],
   "source": [
    "trajectory = pt.load('steering_dry.nc', top='../../system-setup/system_dry.prm7')\n",
    "trajectory = pt.align(trajectory, ':1-282&(@CA,C,N,O)', ref=reference, ref_mask=':1-282&(@CA,C,N,O)')"
   ]
  },
  {
   "cell_type": "code",
   "execution_count": null,
   "id": "af4f0fa3",
   "metadata": {},
   "outputs": [],
   "source": [
    "view = ng.show_pytraj(trajectory)\n",
    "view.clear_representations()\n",
    "view.add_representation('cartoon', color='magenta')\n",
    "view.add_component(reference)\n",
    "view.component_1.clear_representations()\n",
    "view.component_1.add_representation('cartoon', color='lightgreen')\n",
    "view.display()"
   ]
  },
  {
   "cell_type": "markdown",
   "id": "66f6c569",
   "metadata": {},
   "source": [
    "Save snapshots:"
   ]
  },
  {
   "cell_type": "code",
   "execution_count": 10,
   "id": "8a6ad52e",
   "metadata": {},
   "outputs": [],
   "source": [
    "if not os.path.exists('../snapshots'):\n",
    "    os.mkdir('../snapshots')"
   ]
  },
  {
   "cell_type": "code",
   "execution_count": 10,
   "id": "5463dc88",
   "metadata": {},
   "outputs": [],
   "source": [
    "frame_idxs = []\n",
    "for i, idx in enumerate(snapshot_idxs):\n",
    "    snapshot = pt.load('steering_dry.nc', top='../../system-setup/system_dry.prm7', frame_indices=[idx])\n",
    "    if not os.path.exists(f'../snapshots/snapshot_{i+1}.pdb'):\n",
    "        pt.io.save_traj(f'../snapshots/snapshot_{i+1}.pdb', snapshot)\n",
    "    frame_idxs.append(f'{i+1} {idx}\\n')"
   ]
  },
  {
   "cell_type": "code",
   "execution_count": 11,
   "id": "d85052e1",
   "metadata": {},
   "outputs": [],
   "source": [
    "with open('../snapshots/snapshot_idxs.txt', 'w') as file:\n",
    "    file.writelines(frame_idxs)"
   ]
  },
  {
   "cell_type": "code",
   "execution_count": null,
   "id": "a79aa4e8",
   "metadata": {},
   "outputs": [],
   "source": []
  }
 ],
 "metadata": {
  "kernelspec": {
   "display_name": "Python 3 (ipykernel)",
   "language": "python",
   "name": "python3"
  },
  "language_info": {
   "codemirror_mode": {
    "name": "ipython",
    "version": 3
   },
   "file_extension": ".py",
   "mimetype": "text/x-python",
   "name": "python",
   "nbconvert_exporter": "python",
   "pygments_lexer": "ipython3",
   "version": "3.9.13"
  }
 },
 "nbformat": 4,
 "nbformat_minor": 5
}
